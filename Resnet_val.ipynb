{
 "cells": [
  {
   "cell_type": "code",
   "execution_count": 1,
   "id": "f1af7bc1-9b07-4478-a777-a55bbb0fb68c",
   "metadata": {},
   "outputs": [],
   "source": [
    "# Define get_transforms Function\n",
    "\n",
    "# Import necessary libraries\n",
    "from torchvision import transforms\n",
    "\n",
    "# Function to define transformations for validation dataset\n",
    "def get_transforms():\n",
    "    data_transforms = {\n",
    "        'val': transforms.Compose([\n",
    "            transforms.Resize([224, 224]),  # Resize image to 224x224 pixels\n",
    "            transforms.ToTensor(),  # Convert image to PyTorch tensor\n",
    "        ]),\n",
    "    }\n",
    "    return data_transforms  # Return dictionary of transformations\n"
   ]
  },
  {
   "cell_type": "code",
   "execution_count": 2,
   "id": "63155437-f590-4d48-b4dc-8b3e4b46d26a",
   "metadata": {},
   "outputs": [],
   "source": [
    "# Define MyResnet Class\n",
    "\n",
    "# Import necessary libraries\n",
    "from torchvision import models\n",
    "import torch\n",
    "\n",
    "# Define custom ResNet model class\n",
    "class MyResnet(torch.nn.Module):\n",
    "    def __init__(self):\n",
    "        super().__init__()\n",
    "        # Load pre-trained ResNet18 model from torchvision and replace final fully connected layer\n",
    "        self.res = models.resnet18(weights=models.ResNet18_Weights.IMAGENET1K_V1)\n",
    "        self.res.fc = torch.nn.Sequential(\n",
    "            torch.nn.Linear(self.res.fc.in_features, 3),  # Replace FC layer with output size 3\n",
    "            torch.nn.ReLU()  # Apply ReLU activation\n",
    "        )\n",
    "\n",
    "    def forward(self, x):\n",
    "        out = self.res(x)  # Forward pass through the modified ResNet model\n",
    "        return out  # Return output\n"
   ]
  },
  {
   "cell_type": "code",
   "execution_count": 3,
   "id": "a368720f-8113-4f56-8491-de3f09709bb7",
   "metadata": {},
   "outputs": [
    {
     "name": "stdout",
     "output_type": "stream",
     "text": [
      "Predicted Labels: circle = 1.0, rectangle = 1.0, triangle = 1.0\n"
     ]
    },
    {
     "data": {
      "image/jpeg": "[encoded data removed]",
      "image/png": "[encoded data removed]",
      "text/plain": [
       "<PIL.PngImagePlugin.PngImageFile image mode=RGB size=100x100>"
      ]
     },
     "execution_count": 3,
     "metadata": {},
     "output_type": "execute_result"
    }
   ],
   "source": [
    "# Model Evaluation\n",
    "\n",
    "# Import necessary libraries\n",
    "import torch\n",
    "from PIL import Image\n",
    "\n",
    "# Determine device (GPU if available, otherwise CPU)\n",
    "device = torch.device('cuda' if torch.cuda.is_available() else 'cpu')\n",
    "\n",
    "# Define the path to the image\n",
    "image_name = \"result/random_shapes_2.png\"\n",
    "\n",
    "# Instantiate the custom ResNet model\n",
    "model = MyResnet()\n",
    "\n",
    "# Load the best trained model weights\n",
    "model.load_state_dict(torch.load('weights/multiclass_res_best_model.pt')['model_state_dict'])\n",
    "\n",
    "# Move the model to the appropriate device (CPU or GPU)\n",
    "model.to(device)\n",
    "\n",
    "# Set the model to evaluation mode\n",
    "model.eval()\n",
    "\n",
    "# Open and load the image\n",
    "image = Image.open(image_name)\n",
    "\n",
    "# Apply transformations for validation (resize and convert to tensor)\n",
    "transform_val = get_transforms()['val']\n",
    "image_transformed = transform_val(image).unsqueeze(0).to(device)\n",
    "\n",
    "# Perform forward pass through the model and round the output to get predicted labels\n",
    "out = torch.round(model(image_transformed) * 3)\n",
    "out = out[0].tolist()\n",
    "\n",
    "# Print predicted labels for each class\n",
    "print(f'Predicted Labels: circle = {out[0]}, rectangle = {out[1]}, triangle = {out[2]}')\n",
    "\n",
    "# Display the original image\n",
    "image\n"
   ]
  },
  {
   "cell_type": "code",
   "execution_count": null,
   "id": "2f0f1f70-f0fa-4358-a34b-add8b63d9385",
   "metadata": {},
   "outputs": [],
   "source": []
  }
 ],
 "metadata": {
  "kernelspec": {
   "display_name": "Python 3 (ipykernel)",
   "language": "python",
   "name": "python3"
  },
  "language_info": {
   "codemirror_mode": {
    "name": "ipython",
    "version": 3
   },
   "file_extension": ".py",
   "mimetype": "text/x-python",
   "name": "python",
   "nbconvert_exporter": "python",
   "pygments_lexer": "ipython3",
   "version": "3.11.9"
  }
 },
 "nbformat": 4,
 "nbformat_minor": 5
}
